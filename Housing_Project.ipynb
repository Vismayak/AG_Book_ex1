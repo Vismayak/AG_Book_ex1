{
  "nbformat": 4,
  "nbformat_minor": 0,
  "metadata": {
    "colab": {
      "name": "Housing Project.ipynb",
      "provenance": [],
      "collapsed_sections": []
    },
    "kernelspec": {
      "name": "python3",
      "display_name": "Python 3"
    }
  },
  "cells": [
    {
      "cell_type": "markdown",
      "metadata": {
        "id": "5eZZk1YeBpoT",
        "colab_type": "text"
      },
      "source": [
        "## Housing Data Analysis"
      ]
    },
    {
      "cell_type": "markdown",
      "metadata": {
        "id": "j4J9iFHaB8NV",
        "colab_type": "text"
      },
      "source": [
        "### Importing Data"
      ]
    },
    {
      "cell_type": "code",
      "metadata": {
        "id": "9wACPWfVB8qb",
        "colab_type": "code",
        "colab": {}
      },
      "source": [
        "import os\n",
        "import tarfile\n",
        "from six.moves import urllib\n",
        "import pandas as pd\n",
        "import numpy as np\n",
        "import matplotlib.pyplot as plt\n",
        "from sklearn.impute import SimpleImputer"
      ],
      "execution_count": 0,
      "outputs": []
    },
    {
      "cell_type": "code",
      "metadata": {
        "id": "BH-MikBPCA0H",
        "colab_type": "code",
        "colab": {}
      },
      "source": [
        "DOWNLOAD_ROOT= \"https://raw.githubusercontent.com/ageron/handson-ml/master/\"\n",
        "HOUSING_PATH = \"datasets/housing\"\n",
        "HOUSING_URL = DOWNLOAD_ROOT + HOUSING_PATH + \"/housing.tgz\""
      ],
      "execution_count": 0,
      "outputs": []
    },
    {
      "cell_type": "code",
      "metadata": {
        "id": "NoUAOd2oCCf2",
        "colab_type": "code",
        "colab": {}
      },
      "source": [
        "def fetch_housing_data(housing_url= HOUSING_URL, housing_path= HOUSING_PATH):\n",
        "    if not os.path.isdir(housing_path):\n",
        "        os.makedirs(housing_path)\n",
        "    tgz_path= os.path.join(housing_path,\"housing.tgz\")\n",
        "    urllib.request.urlretrieve(housing_url,tgz_path)\n",
        "    \n",
        "    housing_tgz = tarfile.open(tgz_path)\n",
        "    housing_tgz.extractall(path= housing_path)\n",
        "    housing_tgz.close()"
      ],
      "execution_count": 0,
      "outputs": []
    },
    {
      "cell_type": "code",
      "metadata": {
        "id": "a1syQHE7CEFe",
        "colab_type": "code",
        "colab": {}
      },
      "source": [
        "fetch_housing_data()"
      ],
      "execution_count": 0,
      "outputs": []
    },
    {
      "cell_type": "code",
      "metadata": {
        "id": "fDKerpljCFWs",
        "colab_type": "code",
        "colab": {}
      },
      "source": [
        "def load_housing_data(housing_path= HOUSING_PATH):\n",
        "    csv_path = os.path.join(housing_path,\"housing.csv\")\n",
        "    return pd.read_csv(csv_path)"
      ],
      "execution_count": 0,
      "outputs": []
    },
    {
      "cell_type": "markdown",
      "metadata": {
        "id": "8wyUlY35CKtQ",
        "colab_type": "text"
      },
      "source": [
        "## First Preview of Data"
      ]
    },
    {
      "cell_type": "code",
      "metadata": {
        "id": "PKHtLPBRCG_i",
        "colab_type": "code",
        "outputId": "6884701e-7342-426a-d965-291882661ef7",
        "colab": {
          "base_uri": "https://localhost:8080/",
          "height": 197
        }
      },
      "source": [
        "housing_df = load_housing_data()\n",
        "housing_df.head()"
      ],
      "execution_count": 149,
      "outputs": [
        {
          "output_type": "execute_result",
          "data": {
            "text/html": [
              "<div>\n",
              "<style scoped>\n",
              "    .dataframe tbody tr th:only-of-type {\n",
              "        vertical-align: middle;\n",
              "    }\n",
              "\n",
              "    .dataframe tbody tr th {\n",
              "        vertical-align: top;\n",
              "    }\n",
              "\n",
              "    .dataframe thead th {\n",
              "        text-align: right;\n",
              "    }\n",
              "</style>\n",
              "<table border=\"1\" class=\"dataframe\">\n",
              "  <thead>\n",
              "    <tr style=\"text-align: right;\">\n",
              "      <th></th>\n",
              "      <th>longitude</th>\n",
              "      <th>latitude</th>\n",
              "      <th>housing_median_age</th>\n",
              "      <th>total_rooms</th>\n",
              "      <th>total_bedrooms</th>\n",
              "      <th>population</th>\n",
              "      <th>households</th>\n",
              "      <th>median_income</th>\n",
              "      <th>median_house_value</th>\n",
              "      <th>ocean_proximity</th>\n",
              "    </tr>\n",
              "  </thead>\n",
              "  <tbody>\n",
              "    <tr>\n",
              "      <th>0</th>\n",
              "      <td>-122.23</td>\n",
              "      <td>37.88</td>\n",
              "      <td>41.0</td>\n",
              "      <td>880.0</td>\n",
              "      <td>129.0</td>\n",
              "      <td>322.0</td>\n",
              "      <td>126.0</td>\n",
              "      <td>8.3252</td>\n",
              "      <td>452600.0</td>\n",
              "      <td>NEAR BAY</td>\n",
              "    </tr>\n",
              "    <tr>\n",
              "      <th>1</th>\n",
              "      <td>-122.22</td>\n",
              "      <td>37.86</td>\n",
              "      <td>21.0</td>\n",
              "      <td>7099.0</td>\n",
              "      <td>1106.0</td>\n",
              "      <td>2401.0</td>\n",
              "      <td>1138.0</td>\n",
              "      <td>8.3014</td>\n",
              "      <td>358500.0</td>\n",
              "      <td>NEAR BAY</td>\n",
              "    </tr>\n",
              "    <tr>\n",
              "      <th>2</th>\n",
              "      <td>-122.24</td>\n",
              "      <td>37.85</td>\n",
              "      <td>52.0</td>\n",
              "      <td>1467.0</td>\n",
              "      <td>190.0</td>\n",
              "      <td>496.0</td>\n",
              "      <td>177.0</td>\n",
              "      <td>7.2574</td>\n",
              "      <td>352100.0</td>\n",
              "      <td>NEAR BAY</td>\n",
              "    </tr>\n",
              "    <tr>\n",
              "      <th>3</th>\n",
              "      <td>-122.25</td>\n",
              "      <td>37.85</td>\n",
              "      <td>52.0</td>\n",
              "      <td>1274.0</td>\n",
              "      <td>235.0</td>\n",
              "      <td>558.0</td>\n",
              "      <td>219.0</td>\n",
              "      <td>5.6431</td>\n",
              "      <td>341300.0</td>\n",
              "      <td>NEAR BAY</td>\n",
              "    </tr>\n",
              "    <tr>\n",
              "      <th>4</th>\n",
              "      <td>-122.25</td>\n",
              "      <td>37.85</td>\n",
              "      <td>52.0</td>\n",
              "      <td>1627.0</td>\n",
              "      <td>280.0</td>\n",
              "      <td>565.0</td>\n",
              "      <td>259.0</td>\n",
              "      <td>3.8462</td>\n",
              "      <td>342200.0</td>\n",
              "      <td>NEAR BAY</td>\n",
              "    </tr>\n",
              "  </tbody>\n",
              "</table>\n",
              "</div>"
            ],
            "text/plain": [
              "   longitude  latitude  ...  median_house_value  ocean_proximity\n",
              "0    -122.23     37.88  ...            452600.0         NEAR BAY\n",
              "1    -122.22     37.86  ...            358500.0         NEAR BAY\n",
              "2    -122.24     37.85  ...            352100.0         NEAR BAY\n",
              "3    -122.25     37.85  ...            341300.0         NEAR BAY\n",
              "4    -122.25     37.85  ...            342200.0         NEAR BAY\n",
              "\n",
              "[5 rows x 10 columns]"
            ]
          },
          "metadata": {
            "tags": []
          },
          "execution_count": 149
        }
      ]
    },
    {
      "cell_type": "markdown",
      "metadata": {
        "id": "d0AOSrUxCOy0",
        "colab_type": "text"
      },
      "source": [
        "### Information on Features"
      ]
    },
    {
      "cell_type": "code",
      "metadata": {
        "id": "HW06f3tdCMVb",
        "colab_type": "code",
        "outputId": "b7d8efdf-f547-4201-82cf-312b799b75dd",
        "colab": {
          "base_uri": "https://localhost:8080/",
          "height": 318
        }
      },
      "source": [
        "housing_df.info()"
      ],
      "execution_count": 150,
      "outputs": [
        {
          "output_type": "stream",
          "text": [
            "<class 'pandas.core.frame.DataFrame'>\n",
            "RangeIndex: 20640 entries, 0 to 20639\n",
            "Data columns (total 10 columns):\n",
            " #   Column              Non-Null Count  Dtype  \n",
            "---  ------              --------------  -----  \n",
            " 0   longitude           20640 non-null  float64\n",
            " 1   latitude            20640 non-null  float64\n",
            " 2   housing_median_age  20640 non-null  float64\n",
            " 3   total_rooms         20640 non-null  float64\n",
            " 4   total_bedrooms      20433 non-null  float64\n",
            " 5   population          20640 non-null  float64\n",
            " 6   households          20640 non-null  float64\n",
            " 7   median_income       20640 non-null  float64\n",
            " 8   median_house_value  20640 non-null  float64\n",
            " 9   ocean_proximity     20640 non-null  object \n",
            "dtypes: float64(9), object(1)\n",
            "memory usage: 1.6+ MB\n"
          ],
          "name": "stdout"
        }
      ]
    },
    {
      "cell_type": "markdown",
      "metadata": {
        "id": "BXw3HNz6CQdn",
        "colab_type": "text"
      },
      "source": [
        "### Basic Summary of Features"
      ]
    },
    {
      "cell_type": "code",
      "metadata": {
        "id": "YZEIrAkLCTsB",
        "colab_type": "code",
        "outputId": "1db6efe0-86a9-433d-ab05-ef3f67b6e9a6",
        "colab": {
          "base_uri": "https://localhost:8080/",
          "height": 287
        }
      },
      "source": [
        "housing_df.describe()"
      ],
      "execution_count": 151,
      "outputs": [
        {
          "output_type": "execute_result",
          "data": {
            "text/html": [
              "<div>\n",
              "<style scoped>\n",
              "    .dataframe tbody tr th:only-of-type {\n",
              "        vertical-align: middle;\n",
              "    }\n",
              "\n",
              "    .dataframe tbody tr th {\n",
              "        vertical-align: top;\n",
              "    }\n",
              "\n",
              "    .dataframe thead th {\n",
              "        text-align: right;\n",
              "    }\n",
              "</style>\n",
              "<table border=\"1\" class=\"dataframe\">\n",
              "  <thead>\n",
              "    <tr style=\"text-align: right;\">\n",
              "      <th></th>\n",
              "      <th>longitude</th>\n",
              "      <th>latitude</th>\n",
              "      <th>housing_median_age</th>\n",
              "      <th>total_rooms</th>\n",
              "      <th>total_bedrooms</th>\n",
              "      <th>population</th>\n",
              "      <th>households</th>\n",
              "      <th>median_income</th>\n",
              "      <th>median_house_value</th>\n",
              "    </tr>\n",
              "  </thead>\n",
              "  <tbody>\n",
              "    <tr>\n",
              "      <th>count</th>\n",
              "      <td>20640.000000</td>\n",
              "      <td>20640.000000</td>\n",
              "      <td>20640.000000</td>\n",
              "      <td>20640.000000</td>\n",
              "      <td>20433.000000</td>\n",
              "      <td>20640.000000</td>\n",
              "      <td>20640.000000</td>\n",
              "      <td>20640.000000</td>\n",
              "      <td>20640.000000</td>\n",
              "    </tr>\n",
              "    <tr>\n",
              "      <th>mean</th>\n",
              "      <td>-119.569704</td>\n",
              "      <td>35.631861</td>\n",
              "      <td>28.639486</td>\n",
              "      <td>2635.763081</td>\n",
              "      <td>537.870553</td>\n",
              "      <td>1425.476744</td>\n",
              "      <td>499.539680</td>\n",
              "      <td>3.870671</td>\n",
              "      <td>206855.816909</td>\n",
              "    </tr>\n",
              "    <tr>\n",
              "      <th>std</th>\n",
              "      <td>2.003532</td>\n",
              "      <td>2.135952</td>\n",
              "      <td>12.585558</td>\n",
              "      <td>2181.615252</td>\n",
              "      <td>421.385070</td>\n",
              "      <td>1132.462122</td>\n",
              "      <td>382.329753</td>\n",
              "      <td>1.899822</td>\n",
              "      <td>115395.615874</td>\n",
              "    </tr>\n",
              "    <tr>\n",
              "      <th>min</th>\n",
              "      <td>-124.350000</td>\n",
              "      <td>32.540000</td>\n",
              "      <td>1.000000</td>\n",
              "      <td>2.000000</td>\n",
              "      <td>1.000000</td>\n",
              "      <td>3.000000</td>\n",
              "      <td>1.000000</td>\n",
              "      <td>0.499900</td>\n",
              "      <td>14999.000000</td>\n",
              "    </tr>\n",
              "    <tr>\n",
              "      <th>25%</th>\n",
              "      <td>-121.800000</td>\n",
              "      <td>33.930000</td>\n",
              "      <td>18.000000</td>\n",
              "      <td>1447.750000</td>\n",
              "      <td>296.000000</td>\n",
              "      <td>787.000000</td>\n",
              "      <td>280.000000</td>\n",
              "      <td>2.563400</td>\n",
              "      <td>119600.000000</td>\n",
              "    </tr>\n",
              "    <tr>\n",
              "      <th>50%</th>\n",
              "      <td>-118.490000</td>\n",
              "      <td>34.260000</td>\n",
              "      <td>29.000000</td>\n",
              "      <td>2127.000000</td>\n",
              "      <td>435.000000</td>\n",
              "      <td>1166.000000</td>\n",
              "      <td>409.000000</td>\n",
              "      <td>3.534800</td>\n",
              "      <td>179700.000000</td>\n",
              "    </tr>\n",
              "    <tr>\n",
              "      <th>75%</th>\n",
              "      <td>-118.010000</td>\n",
              "      <td>37.710000</td>\n",
              "      <td>37.000000</td>\n",
              "      <td>3148.000000</td>\n",
              "      <td>647.000000</td>\n",
              "      <td>1725.000000</td>\n",
              "      <td>605.000000</td>\n",
              "      <td>4.743250</td>\n",
              "      <td>264725.000000</td>\n",
              "    </tr>\n",
              "    <tr>\n",
              "      <th>max</th>\n",
              "      <td>-114.310000</td>\n",
              "      <td>41.950000</td>\n",
              "      <td>52.000000</td>\n",
              "      <td>39320.000000</td>\n",
              "      <td>6445.000000</td>\n",
              "      <td>35682.000000</td>\n",
              "      <td>6082.000000</td>\n",
              "      <td>15.000100</td>\n",
              "      <td>500001.000000</td>\n",
              "    </tr>\n",
              "  </tbody>\n",
              "</table>\n",
              "</div>"
            ],
            "text/plain": [
              "          longitude      latitude  ...  median_income  median_house_value\n",
              "count  20640.000000  20640.000000  ...   20640.000000        20640.000000\n",
              "mean    -119.569704     35.631861  ...       3.870671       206855.816909\n",
              "std        2.003532      2.135952  ...       1.899822       115395.615874\n",
              "min     -124.350000     32.540000  ...       0.499900        14999.000000\n",
              "25%     -121.800000     33.930000  ...       2.563400       119600.000000\n",
              "50%     -118.490000     34.260000  ...       3.534800       179700.000000\n",
              "75%     -118.010000     37.710000  ...       4.743250       264725.000000\n",
              "max     -114.310000     41.950000  ...      15.000100       500001.000000\n",
              "\n",
              "[8 rows x 9 columns]"
            ]
          },
          "metadata": {
            "tags": []
          },
          "execution_count": 151
        }
      ]
    },
    {
      "cell_type": "code",
      "metadata": {
        "id": "6rOxiZACCVKt",
        "colab_type": "code",
        "outputId": "83feba34-51c3-4a00-cb1a-4e917695fe24",
        "colab": {
          "base_uri": "https://localhost:8080/",
          "height": 1000
        }
      },
      "source": [
        "%matplotlib inline \n",
        "housing_df.hist(bins= 50, figsize =(20,15))"
      ],
      "execution_count": 152,
      "outputs": [
        {
          "output_type": "execute_result",
          "data": {
            "text/plain": [
              "array([[<matplotlib.axes._subplots.AxesSubplot object at 0x7f45ad85ebe0>,\n",
              "        <matplotlib.axes._subplots.AxesSubplot object at 0x7f45ad7cf198>,\n",
              "        <matplotlib.axes._subplots.AxesSubplot object at 0x7f45ad780400>],\n",
              "       [<matplotlib.axes._subplots.AxesSubplot object at 0x7f45ad730668>,\n",
              "        <matplotlib.axes._subplots.AxesSubplot object at 0x7f45ad6e5240>,\n",
              "        <matplotlib.axes._subplots.AxesSubplot object at 0x7f45ad7135c0>],\n",
              "       [<matplotlib.axes._subplots.AxesSubplot object at 0x7f45ad6c3940>,\n",
              "        <matplotlib.axes._subplots.AxesSubplot object at 0x7f45ad66fc88>,\n",
              "        <matplotlib.axes._subplots.AxesSubplot object at 0x7f45ad66fcf8>]],\n",
              "      dtype=object)"
            ]
          },
          "metadata": {
            "tags": []
          },
          "execution_count": 152
        },
        {
          "output_type": "display_data",
          "data": {
            "image/png": "[encoded data removed]",
            "text/plain": [
              "<Figure size 1440x1080 with 9 Axes>"
            ]
          },
          "metadata": {
            "tags": [],
            "needs_background": "light"
          }
        }
      ]
    },
    {
      "cell_type": "markdown",
      "metadata": {
        "id": "kg29K80_CpPz",
        "colab_type": "text"
      },
      "source": [
        "### Splitting the data"
      ]
    },
    {
      "cell_type": "code",
      "metadata": {
        "id": "kfAI9TAvCstb",
        "colab_type": "code",
        "colab": {}
      },
      "source": [
        "def split_train_test(data,test_ratio):\n",
        "    shuffled_indices = np.random.permutation(len(data))\n",
        "    test_size = int(test_ratio * len(data))\n",
        "    train_data = data.iloc[shuffled_indices[test_size:]]\n",
        "    test_data = data.iloc[shuffled_indices[:test_size]]\n",
        "    return train_data,test_data"
      ],
      "execution_count": 0,
      "outputs": []
    },
    {
      "cell_type": "code",
      "metadata": {
        "id": "y_EUIIqaCuhU",
        "colab_type": "code",
        "outputId": "65213c8d-41a1-4db4-dd31-ae6cd3465167",
        "colab": {
          "base_uri": "https://localhost:8080/",
          "height": 34
        }
      },
      "source": [
        "test_ratio = 0.2\n",
        "train_data,test_data = split_train_test(housing_df,0.2)\n",
        "print(len(train_data),len(test_data))"
      ],
      "execution_count": 154,
      "outputs": [
        {
          "output_type": "stream",
          "text": [
            "16512 4128\n"
          ],
          "name": "stdout"
        }
      ]
    },
    {
      "cell_type": "code",
      "metadata": {
        "id": "3OdFRG1MCwdw",
        "colab_type": "code",
        "colab": {}
      },
      "source": [
        "from sklearn.model_selection import train_test_split\n",
        "train_data,test_data = train_test_split(housing_df,test_size =0.2,random_state = 42)"
      ],
      "execution_count": 0,
      "outputs": []
    },
    {
      "cell_type": "markdown",
      "metadata": {
        "id": "TCz64nhXDBZr",
        "colab_type": "text"
      },
      "source": [
        "### Stratified Splitting of the Data"
      ]
    },
    {
      "cell_type": "markdown",
      "metadata": {
        "id": "XWtcpSWGDFH7",
        "colab_type": "text"
      },
      "source": [
        "The data will be stratified on the basis of median income"
      ]
    },
    {
      "cell_type": "code",
      "metadata": {
        "id": "Zj94wEUgDHW-",
        "colab_type": "code",
        "outputId": "55e0c09d-21b3-4c50-c9f6-ca94c64616c3",
        "colab": {
          "base_uri": "https://localhost:8080/",
          "height": 282
        }
      },
      "source": [
        "housing_df[\"income_cat\"] = pd.cut(housing_df[\"median_income\"],bins = [0,1.5,3,4.5,6,np.inf],labels = [1,2,3,4,5])\n",
        "housing_df[\"income_cat\"].hist()"
      ],
      "execution_count": 156,
      "outputs": [
        {
          "output_type": "execute_result",
          "data": {
            "text/plain": [
              "<matplotlib.axes._subplots.AxesSubplot at 0x7f45ad16ad68>"
            ]
          },
          "metadata": {
            "tags": []
          },
          "execution_count": 156
        },
        {
          "output_type": "display_data",
          "data": {
            "image/png": "[encoded data removed]",
            "text/plain": [
              "<Figure size 432x288 with 1 Axes>"
            ]
          },
          "metadata": {
            "tags": [],
            "needs_background": "light"
          }
        }
      ]
    },
    {
      "cell_type": "code",
      "metadata": {
        "id": "AA6SOGAZDIoa",
        "colab_type": "code",
        "colab": {}
      },
      "source": [
        "from sklearn.model_selection import StratifiedShuffleSplit\n",
        "sss = StratifiedShuffleSplit(n_splits=1, test_size=0.2,random_state=42)\n",
        "\n",
        "for strat_train_indices,strat_test_indices in sss.split(X = housing_df,y =housing_df[\"income_cat\"]):\n",
        "    strat_train_data = housing_df.loc[strat_train_indices]\n",
        "    strat_test_data = housing_df.loc[strat_test_indices]\n",
        "\n",
        "for set_ in(strat_train_data, strat_test_data):\n",
        "    set_.drop(\"income_cat\",axis = 1 , inplace =True)\n"
      ],
      "execution_count": 0,
      "outputs": []
    },
    {
      "cell_type": "markdown",
      "metadata": {
        "id": "Vm1BAPzKDJ_l",
        "colab_type": "text"
      },
      "source": [
        "## Visualizing the Data"
      ]
    },
    {
      "cell_type": "code",
      "metadata": {
        "id": "fPNBFKvQDMl8",
        "colab_type": "code",
        "colab": {}
      },
      "source": [
        "housing_copy = strat_train_data.copy()  #Create a copy of the dataframe"
      ],
      "execution_count": 0,
      "outputs": []
    },
    {
      "cell_type": "code",
      "metadata": {
        "id": "l48K4Q9rDN3m",
        "colab_type": "code",
        "outputId": "12cd170a-1db6-49c9-e5da-8a471b9c0c36",
        "colab": {
          "base_uri": "https://localhost:8080/",
          "height": 436
        }
      },
      "source": [
        "housing_copy.plot(kind= 'scatter', x= \"longitude\", y= \"latitude\", alpha = 0.4, s= housing_copy[\"population\"]/100,\n",
        "                 c= \"median_house_value\", cmap= plt.get_cmap(\"jet\"), colorbar= True, label=\"population\",\n",
        "                 figsize= (10,7))\n",
        "plt.legend()"
      ],
      "execution_count": 159,
      "outputs": [
        {
          "output_type": "execute_result",
          "data": {
            "text/plain": [
              "<matplotlib.legend.Legend at 0x7f45aee1ef98>"
            ]
          },
          "metadata": {
            "tags": []
          },
          "execution_count": 159
        },
        {
          "output_type": "display_data",
          "data": {
            "image/png": "[encoded data removed]",
            "text/plain": [
              "<Figure size 720x504 with 2 Axes>"
            ]
          },
          "metadata": {
            "tags": [],
            "needs_background": "light"
          }
        }
      ]
    },
    {
      "cell_type": "markdown",
      "metadata": {
        "id": "L0M2NPWCDTbt",
        "colab_type": "text"
      },
      "source": [
        "## Correlation"
      ]
    },
    {
      "cell_type": "code",
      "metadata": {
        "id": "WlMMp66UDO7k",
        "colab_type": "code",
        "outputId": "76952695-b4b6-4391-ad73-ad2516b76a6f",
        "colab": {
          "base_uri": "https://localhost:8080/",
          "height": 194
        }
      },
      "source": [
        "corr_matrix = housing_copy.corr()\n",
        "corr_matrix[\"median_house_value\"].sort_values(ascending= False)"
      ],
      "execution_count": 160,
      "outputs": [
        {
          "output_type": "execute_result",
          "data": {
            "text/plain": [
              "median_house_value    1.000000\n",
              "median_income         0.687160\n",
              "total_rooms           0.135097\n",
              "housing_median_age    0.114110\n",
              "households            0.064506\n",
              "total_bedrooms        0.047689\n",
              "population           -0.026920\n",
              "longitude            -0.047432\n",
              "latitude             -0.142724\n",
              "Name: median_house_value, dtype: float64"
            ]
          },
          "metadata": {
            "tags": []
          },
          "execution_count": 160
        }
      ]
    },
    {
      "cell_type": "markdown",
      "metadata": {
        "id": "Auk3OzxEDXXF",
        "colab_type": "text"
      },
      "source": [
        "### Creating more useful variables"
      ]
    },
    {
      "cell_type": "code",
      "metadata": {
        "id": "S2fJ6i_3Dc0B",
        "colab_type": "code",
        "colab": {}
      },
      "source": [
        "housing_copy[\"rooms_per_household\"]= housing_copy[\"total_rooms\"]/housing_copy[\"households\"]\n",
        "housing_copy[\"population_per_household\"]= housing_copy[\"population\"]/housing_copy[\"households\"]\n",
        "housing_copy[\"bedroom_room_ratio\"]= housing_copy[\"total_bedrooms\"]/housing_copy[\"total_rooms\"]"
      ],
      "execution_count": 0,
      "outputs": []
    },
    {
      "cell_type": "markdown",
      "metadata": {
        "id": "tRcwyif6Dd6-",
        "colab_type": "text"
      },
      "source": [
        "### Checking new correlation matrix"
      ]
    },
    {
      "cell_type": "code",
      "metadata": {
        "id": "C_SrfwVlDg0l",
        "colab_type": "code",
        "outputId": "77ecfa73-ec5e-4d34-e1ff-847d7dc266fc",
        "colab": {
          "base_uri": "https://localhost:8080/",
          "height": 247
        }
      },
      "source": [
        "corr_matrix = housing_copy.corr()\n",
        "corr_matrix[\"median_house_value\"].sort_values(ascending= False)"
      ],
      "execution_count": 162,
      "outputs": [
        {
          "output_type": "execute_result",
          "data": {
            "text/plain": [
              "median_house_value          1.000000\n",
              "median_income               0.687160\n",
              "rooms_per_household         0.146285\n",
              "total_rooms                 0.135097\n",
              "housing_median_age          0.114110\n",
              "households                  0.064506\n",
              "total_bedrooms              0.047689\n",
              "population_per_household   -0.021985\n",
              "population                 -0.026920\n",
              "longitude                  -0.047432\n",
              "latitude                   -0.142724\n",
              "bedroom_room_ratio         -0.259984\n",
              "Name: median_house_value, dtype: float64"
            ]
          },
          "metadata": {
            "tags": []
          },
          "execution_count": 162
        }
      ]
    },
    {
      "cell_type": "markdown",
      "metadata": {
        "id": "ixw8e5fVDh7v",
        "colab_type": "text"
      },
      "source": [
        "## Data Cleaning"
      ]
    },
    {
      "cell_type": "markdown",
      "metadata": {
        "id": "f1-7OCT3Ml8N",
        "colab_type": "text"
      },
      "source": [
        "## Split the data and the labels"
      ]
    },
    {
      "cell_type": "code",
      "metadata": {
        "id": "uKTYnxTNMxoJ",
        "colab_type": "code",
        "colab": {}
      },
      "source": [
        "housing_labels = housing_copy[\"median_house_value\"]\n",
        "housing_data = housing_copy.drop(\"median_house_value\",axis='columns')"
      ],
      "execution_count": 0,
      "outputs": []
    },
    {
      "cell_type": "markdown",
      "metadata": {
        "id": "QOg-wWz9DjbW",
        "colab_type": "text"
      },
      "source": [
        "## Numerical Cleaning"
      ]
    },
    {
      "cell_type": "code",
      "metadata": {
        "id": "04hNwtrLDm57",
        "colab_type": "code",
        "colab": {}
      },
      "source": [
        "imputer = SimpleImputer(strategy='median')\n",
        "housing_data_numerical = housing_data.drop(columns=\"ocean_proximity\")\n",
        "imputer.fit(housing_data_numerical)\n",
        "housing_train= pd.DataFrame(imputer.transform(housing_data_numerical),columns= housing_data_numerical.columns)"
      ],
      "execution_count": 0,
      "outputs": []
    },
    {
      "cell_type": "markdown",
      "metadata": {
        "id": "BQmAJJc-DpfY",
        "colab_type": "text"
      },
      "source": [
        "## Text Cleaning"
      ]
    },
    {
      "cell_type": "code",
      "metadata": {
        "id": "G7QH5hHUDr0v",
        "colab_type": "code",
        "outputId": "278f676a-945b-4eb0-d549-b35c2d639880",
        "colab": {
          "base_uri": "https://localhost:8080/",
          "height": 34
        }
      },
      "source": [
        "from sklearn.preprocessing import OneHotEncoder\n",
        "ohe = OneHotEncoder()\n",
        "op = housing_data[[\"ocean_proximity\"]]\n",
        "ohe.fit_transform(op)\n",
        "text_columns_names = list(ohe.get_feature_names())\n",
        "text_columns_names = [i[3:] for i in text_columns_names]\n",
        "print(text_columns_names)"
      ],
      "execution_count": 165,
      "outputs": [
        {
          "output_type": "stream",
          "text": [
            "['<1H OCEAN', 'INLAND', 'ISLAND', 'NEAR BAY', 'NEAR OCEAN']\n"
          ],
          "name": "stdout"
        }
      ]
    },
    {
      "cell_type": "markdown",
      "metadata": {
        "id": "yH3ob1kJDzpb",
        "colab_type": "text"
      },
      "source": [
        "## Custom Transformers\n",
        "### Transformer to create numerical attributes created above"
      ]
    },
    {
      "cell_type": "code",
      "metadata": {
        "id": "DpPWJz9cDubd",
        "colab_type": "code",
        "colab": {}
      },
      "source": [
        "housing_temp = housing_data\n",
        "\n",
        "from sklearn.base import BaseEstimator, TransformerMixin\n",
        "\n",
        "class CombinedAttributesMaker(BaseEstimator,TransformerMixin):\n",
        "    def __init__(self,add_population_per_household = True):\n",
        "        self.add_population_per_household = add_population_per_household\n",
        "    def fit(self,X,y= None):\n",
        "        return self\n",
        "    def transform(self,X,y=None):\n",
        "        X = pd.DataFrame(X)\n",
        "        X.columns = housing_data.columns.drop(\"ocean_proximity\")\n",
        "        if self.add_population_per_household:\n",
        "            X[\"rooms_per_household\"]= X[\"total_rooms\"]/X[\"households\"]\n",
        "            X[\"population_per_household\"]= X[\"population\"]/X[\"households\"]\n",
        "            X[\"bedroom_room_ratio\"]= X[\"total_bedrooms\"]/X[\"total_rooms\"]\n",
        "        else:\n",
        "            X[\"bedroom_room_ratio\"]= X[\"total_bedrooms\"]/X[\"total_rooms\"]\n",
        "            X[\"rooms_per_household\"]= X[\"total_rooms\"]/X[\"households\"]\n",
        "        return X"
      ],
      "execution_count": 0,
      "outputs": []
    },
    {
      "cell_type": "code",
      "metadata": {
        "id": "6v92sgbRD4Az",
        "colab_type": "code",
        "outputId": "1866a715-f812-41be-ca1e-1cf7fad157af",
        "colab": {
          "base_uri": "https://localhost:8080/",
          "height": 197
        }
      },
      "source": [
        "imputer = SimpleImputer(strategy='median')\n",
        "housing_data_numerical = housing_data.drop(columns=\"ocean_proximity\")\n",
        "imputer.fit(housing_data_numerical)\n",
        "housing_data_numerical= pd.DataFrame(imputer.transform(housing_data_numerical),columns= housing_data_numerical.columns)\n",
        "cy= CombinedAttributesMaker(add_population_per_household=True).transform(housing_data_numerical)\n",
        "cy.head()"
      ],
      "execution_count": 167,
      "outputs": [
        {
          "output_type": "execute_result",
          "data": {
            "text/html": [
              "<div>\n",
              "<style scoped>\n",
              "    .dataframe tbody tr th:only-of-type {\n",
              "        vertical-align: middle;\n",
              "    }\n",
              "\n",
              "    .dataframe tbody tr th {\n",
              "        vertical-align: top;\n",
              "    }\n",
              "\n",
              "    .dataframe thead th {\n",
              "        text-align: right;\n",
              "    }\n",
              "</style>\n",
              "<table border=\"1\" class=\"dataframe\">\n",
              "  <thead>\n",
              "    <tr style=\"text-align: right;\">\n",
              "      <th></th>\n",
              "      <th>longitude</th>\n",
              "      <th>latitude</th>\n",
              "      <th>housing_median_age</th>\n",
              "      <th>total_rooms</th>\n",
              "      <th>total_bedrooms</th>\n",
              "      <th>population</th>\n",
              "      <th>households</th>\n",
              "      <th>median_income</th>\n",
              "      <th>rooms_per_household</th>\n",
              "      <th>population_per_household</th>\n",
              "      <th>bedroom_room_ratio</th>\n",
              "    </tr>\n",
              "  </thead>\n",
              "  <tbody>\n",
              "    <tr>\n",
              "      <th>0</th>\n",
              "      <td>-121.89</td>\n",
              "      <td>37.29</td>\n",
              "      <td>38.0</td>\n",
              "      <td>1568.0</td>\n",
              "      <td>351.0</td>\n",
              "      <td>710.0</td>\n",
              "      <td>339.0</td>\n",
              "      <td>2.7042</td>\n",
              "      <td>4.625369</td>\n",
              "      <td>2.094395</td>\n",
              "      <td>0.223852</td>\n",
              "    </tr>\n",
              "    <tr>\n",
              "      <th>1</th>\n",
              "      <td>-121.93</td>\n",
              "      <td>37.05</td>\n",
              "      <td>14.0</td>\n",
              "      <td>679.0</td>\n",
              "      <td>108.0</td>\n",
              "      <td>306.0</td>\n",
              "      <td>113.0</td>\n",
              "      <td>6.4214</td>\n",
              "      <td>6.008850</td>\n",
              "      <td>2.707965</td>\n",
              "      <td>0.159057</td>\n",
              "    </tr>\n",
              "    <tr>\n",
              "      <th>2</th>\n",
              "      <td>-117.20</td>\n",
              "      <td>32.77</td>\n",
              "      <td>31.0</td>\n",
              "      <td>1952.0</td>\n",
              "      <td>471.0</td>\n",
              "      <td>936.0</td>\n",
              "      <td>462.0</td>\n",
              "      <td>2.8621</td>\n",
              "      <td>4.225108</td>\n",
              "      <td>2.025974</td>\n",
              "      <td>0.241291</td>\n",
              "    </tr>\n",
              "    <tr>\n",
              "      <th>3</th>\n",
              "      <td>-119.61</td>\n",
              "      <td>36.31</td>\n",
              "      <td>25.0</td>\n",
              "      <td>1847.0</td>\n",
              "      <td>371.0</td>\n",
              "      <td>1460.0</td>\n",
              "      <td>353.0</td>\n",
              "      <td>1.8839</td>\n",
              "      <td>5.232295</td>\n",
              "      <td>4.135977</td>\n",
              "      <td>0.200866</td>\n",
              "    </tr>\n",
              "    <tr>\n",
              "      <th>4</th>\n",
              "      <td>-118.59</td>\n",
              "      <td>34.23</td>\n",
              "      <td>17.0</td>\n",
              "      <td>6592.0</td>\n",
              "      <td>1525.0</td>\n",
              "      <td>4459.0</td>\n",
              "      <td>1463.0</td>\n",
              "      <td>3.0347</td>\n",
              "      <td>4.505810</td>\n",
              "      <td>3.047847</td>\n",
              "      <td>0.231341</td>\n",
              "    </tr>\n",
              "  </tbody>\n",
              "</table>\n",
              "</div>"
            ],
            "text/plain": [
              "   longitude  latitude  ...  population_per_household  bedroom_room_ratio\n",
              "0    -121.89     37.29  ...                  2.094395            0.223852\n",
              "1    -121.93     37.05  ...                  2.707965            0.159057\n",
              "2    -117.20     32.77  ...                  2.025974            0.241291\n",
              "3    -119.61     36.31  ...                  4.135977            0.200866\n",
              "4    -118.59     34.23  ...                  3.047847            0.231341\n",
              "\n",
              "[5 rows x 11 columns]"
            ]
          },
          "metadata": {
            "tags": []
          },
          "execution_count": 167
        }
      ]
    },
    {
      "cell_type": "markdown",
      "metadata": {
        "id": "MlPCkqMhD55h",
        "colab_type": "text"
      },
      "source": [
        "## Feature Scaling "
      ]
    },
    {
      "cell_type": "code",
      "metadata": {
        "id": "oWF4WwGHD8Yn",
        "colab_type": "code",
        "outputId": "acbd8dd6-4ce0-4bc4-bf42-90f40662c658",
        "colab": {
          "base_uri": "https://localhost:8080/",
          "height": 197
        }
      },
      "source": [
        "from sklearn.preprocessing import StandardScaler\n",
        "standard_scaler= StandardScaler()\n",
        "cy = pd.DataFrame(standard_scaler.fit_transform(cy))\n",
        "cy.columns = housing_data_numerical.columns\n",
        "cy.head()"
      ],
      "execution_count": 168,
      "outputs": [
        {
          "output_type": "execute_result",
          "data": {
            "text/html": [
              "<div>\n",
              "<style scoped>\n",
              "    .dataframe tbody tr th:only-of-type {\n",
              "        vertical-align: middle;\n",
              "    }\n",
              "\n",
              "    .dataframe tbody tr th {\n",
              "        vertical-align: top;\n",
              "    }\n",
              "\n",
              "    .dataframe thead th {\n",
              "        text-align: right;\n",
              "    }\n",
              "</style>\n",
              "<table border=\"1\" class=\"dataframe\">\n",
              "  <thead>\n",
              "    <tr style=\"text-align: right;\">\n",
              "      <th></th>\n",
              "      <th>longitude</th>\n",
              "      <th>latitude</th>\n",
              "      <th>housing_median_age</th>\n",
              "      <th>total_rooms</th>\n",
              "      <th>total_bedrooms</th>\n",
              "      <th>population</th>\n",
              "      <th>households</th>\n",
              "      <th>median_income</th>\n",
              "      <th>rooms_per_household</th>\n",
              "      <th>population_per_household</th>\n",
              "      <th>bedroom_room_ratio</th>\n",
              "    </tr>\n",
              "  </thead>\n",
              "  <tbody>\n",
              "    <tr>\n",
              "      <th>0</th>\n",
              "      <td>-1.156043</td>\n",
              "      <td>0.771950</td>\n",
              "      <td>0.743331</td>\n",
              "      <td>-0.493234</td>\n",
              "      <td>-0.445438</td>\n",
              "      <td>-0.636211</td>\n",
              "      <td>-0.420698</td>\n",
              "      <td>-0.614937</td>\n",
              "      <td>-0.312055</td>\n",
              "      <td>-0.086499</td>\n",
              "      <td>0.155318</td>\n",
              "    </tr>\n",
              "    <tr>\n",
              "      <th>1</th>\n",
              "      <td>-1.176025</td>\n",
              "      <td>0.659695</td>\n",
              "      <td>-1.165317</td>\n",
              "      <td>-0.908967</td>\n",
              "      <td>-1.036928</td>\n",
              "      <td>-0.998331</td>\n",
              "      <td>-1.022227</td>\n",
              "      <td>1.336459</td>\n",
              "      <td>0.217683</td>\n",
              "      <td>-0.033534</td>\n",
              "      <td>-0.836289</td>\n",
              "    </tr>\n",
              "    <tr>\n",
              "      <th>2</th>\n",
              "      <td>1.186849</td>\n",
              "      <td>-1.342183</td>\n",
              "      <td>0.186642</td>\n",
              "      <td>-0.313660</td>\n",
              "      <td>-0.153345</td>\n",
              "      <td>-0.433639</td>\n",
              "      <td>-0.093318</td>\n",
              "      <td>-0.532046</td>\n",
              "      <td>-0.465315</td>\n",
              "      <td>-0.092405</td>\n",
              "      <td>0.422200</td>\n",
              "    </tr>\n",
              "    <tr>\n",
              "      <th>3</th>\n",
              "      <td>-0.017068</td>\n",
              "      <td>0.313576</td>\n",
              "      <td>-0.290520</td>\n",
              "      <td>-0.362762</td>\n",
              "      <td>-0.396756</td>\n",
              "      <td>0.036041</td>\n",
              "      <td>-0.383436</td>\n",
              "      <td>-1.045566</td>\n",
              "      <td>-0.079661</td>\n",
              "      <td>0.089736</td>\n",
              "      <td>-0.196453</td>\n",
              "    </tr>\n",
              "    <tr>\n",
              "      <th>4</th>\n",
              "      <td>0.492474</td>\n",
              "      <td>-0.659299</td>\n",
              "      <td>-0.926736</td>\n",
              "      <td>1.856193</td>\n",
              "      <td>2.412211</td>\n",
              "      <td>2.724154</td>\n",
              "      <td>2.570975</td>\n",
              "      <td>-0.441437</td>\n",
              "      <td>-0.357834</td>\n",
              "      <td>-0.004194</td>\n",
              "      <td>0.269928</td>\n",
              "    </tr>\n",
              "  </tbody>\n",
              "</table>\n",
              "</div>"
            ],
            "text/plain": [
              "   longitude  latitude  ...  population_per_household  bedroom_room_ratio\n",
              "0  -1.156043  0.771950  ...                 -0.086499            0.155318\n",
              "1  -1.176025  0.659695  ...                 -0.033534           -0.836289\n",
              "2   1.186849 -1.342183  ...                 -0.092405            0.422200\n",
              "3  -0.017068  0.313576  ...                  0.089736           -0.196453\n",
              "4   0.492474 -0.659299  ...                 -0.004194            0.269928\n",
              "\n",
              "[5 rows x 11 columns]"
            ]
          },
          "metadata": {
            "tags": []
          },
          "execution_count": 168
        }
      ]
    },
    {
      "cell_type": "markdown",
      "metadata": {
        "id": "_dsDSLLcD9qC",
        "colab_type": "text"
      },
      "source": [
        "## Transformation Pipeline"
      ]
    },
    {
      "cell_type": "code",
      "metadata": {
        "id": "I_DNvWpWECqQ",
        "colab_type": "code",
        "colab": {}
      },
      "source": [
        "housing_data = housing_temp\n",
        "from sklearn.pipeline import Pipeline\n",
        "\n",
        "numerical_processing = Pipeline([\n",
        "                                ('imputer',SimpleImputer(strategy='median')),\n",
        "                                ('attribute_maker',CombinedAttributesMaker()),\n",
        "                                ('standard_scaler',StandardScaler())\n",
        "])\n",
        "\n",
        "housing_numerical = housing_data.drop(columns=\"ocean_proximity\")"
      ],
      "execution_count": 0,
      "outputs": []
    },
    {
      "cell_type": "code",
      "metadata": {
        "id": "af5HhQW9EC-U",
        "colab_type": "code",
        "colab": {}
      },
      "source": [
        "from sklearn.compose import ColumnTransformer\n",
        "\n",
        "num_columns = housing_numerical.columns\n",
        "text_columns = ['ocean_proximity']\n",
        "\n",
        "housing_pipeline= ColumnTransformer([\n",
        "                    ('number',numerical_processing,num_columns),\n",
        "                    ('text',OneHotEncoder(),text_columns)\n",
        "])"
      ],
      "execution_count": 0,
      "outputs": []
    },
    {
      "cell_type": "code",
      "metadata": {
        "id": "KoblwTFFEEZK",
        "colab_type": "code",
        "colab": {}
      },
      "source": [
        "housing_data_cleaned = housing_pipeline.fit_transform(housing_data)\n",
        "col_names = list(housing_numerical.columns)\n",
        "col_names = col_names + text_columns_names\n",
        "housing_data_cleaned = pd.DataFrame(housing_data_cleaned,columns=col_names)"
      ],
      "execution_count": 0,
      "outputs": []
    },
    {
      "cell_type": "code",
      "metadata": {
        "id": "fVyTFgNUEFa5",
        "colab_type": "code",
        "outputId": "fb537608-fbbb-43cd-d588-c2ac25861df1",
        "colab": {
          "base_uri": "https://localhost:8080/",
          "height": 234
        }
      },
      "source": [
        "housing_data_cleaned.head()"
      ],
      "execution_count": 172,
      "outputs": [
        {
          "output_type": "execute_result",
          "data": {
            "text/html": [
              "<div>\n",
              "<style scoped>\n",
              "    .dataframe tbody tr th:only-of-type {\n",
              "        vertical-align: middle;\n",
              "    }\n",
              "\n",
              "    .dataframe tbody tr th {\n",
              "        vertical-align: top;\n",
              "    }\n",
              "\n",
              "    .dataframe thead th {\n",
              "        text-align: right;\n",
              "    }\n",
              "</style>\n",
              "<table border=\"1\" class=\"dataframe\">\n",
              "  <thead>\n",
              "    <tr style=\"text-align: right;\">\n",
              "      <th></th>\n",
              "      <th>longitude</th>\n",
              "      <th>latitude</th>\n",
              "      <th>housing_median_age</th>\n",
              "      <th>total_rooms</th>\n",
              "      <th>total_bedrooms</th>\n",
              "      <th>population</th>\n",
              "      <th>households</th>\n",
              "      <th>median_income</th>\n",
              "      <th>rooms_per_household</th>\n",
              "      <th>population_per_household</th>\n",
              "      <th>bedroom_room_ratio</th>\n",
              "      <th>&lt;1H OCEAN</th>\n",
              "      <th>INLAND</th>\n",
              "      <th>ISLAND</th>\n",
              "      <th>NEAR BAY</th>\n",
              "      <th>NEAR OCEAN</th>\n",
              "    </tr>\n",
              "  </thead>\n",
              "  <tbody>\n",
              "    <tr>\n",
              "      <th>0</th>\n",
              "      <td>-1.156043</td>\n",
              "      <td>0.771950</td>\n",
              "      <td>0.743331</td>\n",
              "      <td>-0.493234</td>\n",
              "      <td>-0.445438</td>\n",
              "      <td>-0.636211</td>\n",
              "      <td>-0.420698</td>\n",
              "      <td>-0.614937</td>\n",
              "      <td>-0.312055</td>\n",
              "      <td>-0.086499</td>\n",
              "      <td>0.155318</td>\n",
              "      <td>1.0</td>\n",
              "      <td>0.0</td>\n",
              "      <td>0.0</td>\n",
              "      <td>0.0</td>\n",
              "      <td>0.0</td>\n",
              "    </tr>\n",
              "    <tr>\n",
              "      <th>1</th>\n",
              "      <td>-1.176025</td>\n",
              "      <td>0.659695</td>\n",
              "      <td>-1.165317</td>\n",
              "      <td>-0.908967</td>\n",
              "      <td>-1.036928</td>\n",
              "      <td>-0.998331</td>\n",
              "      <td>-1.022227</td>\n",
              "      <td>1.336459</td>\n",
              "      <td>0.217683</td>\n",
              "      <td>-0.033534</td>\n",
              "      <td>-0.836289</td>\n",
              "      <td>1.0</td>\n",
              "      <td>0.0</td>\n",
              "      <td>0.0</td>\n",
              "      <td>0.0</td>\n",
              "      <td>0.0</td>\n",
              "    </tr>\n",
              "    <tr>\n",
              "      <th>2</th>\n",
              "      <td>1.186849</td>\n",
              "      <td>-1.342183</td>\n",
              "      <td>0.186642</td>\n",
              "      <td>-0.313660</td>\n",
              "      <td>-0.153345</td>\n",
              "      <td>-0.433639</td>\n",
              "      <td>-0.093318</td>\n",
              "      <td>-0.532046</td>\n",
              "      <td>-0.465315</td>\n",
              "      <td>-0.092405</td>\n",
              "      <td>0.422200</td>\n",
              "      <td>0.0</td>\n",
              "      <td>0.0</td>\n",
              "      <td>0.0</td>\n",
              "      <td>0.0</td>\n",
              "      <td>1.0</td>\n",
              "    </tr>\n",
              "    <tr>\n",
              "      <th>3</th>\n",
              "      <td>-0.017068</td>\n",
              "      <td>0.313576</td>\n",
              "      <td>-0.290520</td>\n",
              "      <td>-0.362762</td>\n",
              "      <td>-0.396756</td>\n",
              "      <td>0.036041</td>\n",
              "      <td>-0.383436</td>\n",
              "      <td>-1.045566</td>\n",
              "      <td>-0.079661</td>\n",
              "      <td>0.089736</td>\n",
              "      <td>-0.196453</td>\n",
              "      <td>0.0</td>\n",
              "      <td>1.0</td>\n",
              "      <td>0.0</td>\n",
              "      <td>0.0</td>\n",
              "      <td>0.0</td>\n",
              "    </tr>\n",
              "    <tr>\n",
              "      <th>4</th>\n",
              "      <td>0.492474</td>\n",
              "      <td>-0.659299</td>\n",
              "      <td>-0.926736</td>\n",
              "      <td>1.856193</td>\n",
              "      <td>2.412211</td>\n",
              "      <td>2.724154</td>\n",
              "      <td>2.570975</td>\n",
              "      <td>-0.441437</td>\n",
              "      <td>-0.357834</td>\n",
              "      <td>-0.004194</td>\n",
              "      <td>0.269928</td>\n",
              "      <td>1.0</td>\n",
              "      <td>0.0</td>\n",
              "      <td>0.0</td>\n",
              "      <td>0.0</td>\n",
              "      <td>0.0</td>\n",
              "    </tr>\n",
              "  </tbody>\n",
              "</table>\n",
              "</div>"
            ],
            "text/plain": [
              "   longitude  latitude  housing_median_age  ...  ISLAND  NEAR BAY  NEAR OCEAN\n",
              "0  -1.156043  0.771950            0.743331  ...     0.0       0.0         0.0\n",
              "1  -1.176025  0.659695           -1.165317  ...     0.0       0.0         0.0\n",
              "2   1.186849 -1.342183            0.186642  ...     0.0       0.0         1.0\n",
              "3  -0.017068  0.313576           -0.290520  ...     0.0       0.0         0.0\n",
              "4   0.492474 -0.659299           -0.926736  ...     0.0       0.0         0.0\n",
              "\n",
              "[5 rows x 16 columns]"
            ]
          },
          "metadata": {
            "tags": []
          },
          "execution_count": 172
        }
      ]
    },
    {
      "cell_type": "markdown",
      "metadata": {
        "id": "dBINw0BsSakV",
        "colab_type": "text"
      },
      "source": [
        "# Use different models to gather an idea of the best ones"
      ]
    },
    {
      "cell_type": "markdown",
      "metadata": {
        "id": "_plMXDEFSikg",
        "colab_type": "text"
      },
      "source": [
        "## Support Vector Machine Regressor"
      ]
    },
    {
      "cell_type": "code",
      "metadata": {
        "id": "U1GWH3yvShEL",
        "colab_type": "code",
        "colab": {
          "base_uri": "https://localhost:8080/",
          "height": 230
        },
        "outputId": "36ea60ca-dac0-4235-d716-3a123d700c47"
      },
      "source": [
        "from sklearn.svm import SVR\n",
        "from sklearn.model_selection import GridSearchCV\n",
        "param_grid = [{'kernel':['linear'],'C':[1,5,10,100,500,1000]},{'kernel':['rbf'],'C':[1,5,10],'gamma':['scale','auto']}]\n",
        "svm = SVR()\n",
        "grid_search = GridSearchCV(svm, param_grid, return_train_score = True, scoring = 'neg_mean_squared_error')\n",
        "grid_search.fit(housing_data_cleaned,housing_labels)"
      ],
      "execution_count": 180,
      "outputs": [
        {
          "output_type": "execute_result",
          "data": {
            "text/plain": [
              "GridSearchCV(cv=None, error_score=nan,\n",
              "             estimator=SVR(C=1.0, cache_size=200, coef0=0.0, degree=3,\n",
              "                           epsilon=0.1, gamma='scale', kernel='rbf',\n",
              "                           max_iter=-1, shrinking=True, tol=0.001,\n",
              "                           verbose=False),\n",
              "             iid='deprecated', n_jobs=None,\n",
              "             param_grid=[{'C': [1, 5, 10, 100, 500, 1000],\n",
              "                          'kernel': ['linear']},\n",
              "                         {'C': [1, 5, 10], 'gamma': ['scale', 'auto'],\n",
              "                          'kernel': ['rbf']}],\n",
              "             pre_dispatch='2*n_jobs', refit=True, return_train_score=True,\n",
              "             scoring='neg_mean_squared_error', verbose=0)"
            ]
          },
          "metadata": {
            "tags": []
          },
          "execution_count": 180
        }
      ]
    },
    {
      "cell_type": "code",
      "metadata": {
        "id": "uDaFh-7cqxjc",
        "colab_type": "code",
        "colab": {
          "base_uri": "https://localhost:8080/",
          "height": 230
        },
        "outputId": "3c42b281-4428-4448-8769-0e0168c2cd07"
      },
      "source": [
        "cvres = grid_search.cv_results_\n",
        "for mean_score,params in zip(cvres[\"mean_test_score\"],cvres[\"params\"]):\n",
        "  print(np.sqrt(-mean_score),params)"
      ],
      "execution_count": 181,
      "outputs": [
        {
          "output_type": "stream",
          "text": [
            "112571.9845974018 {'C': 1, 'kernel': 'linear'}\n",
            "95066.89952171071 {'C': 5, 'kernel': 'linear'}\n",
            "84654.24944894915 {'C': 10, 'kernel': 'linear'}\n",
            "71603.17710755806 {'C': 100, 'kernel': 'linear'}\n",
            "70538.39549256714 {'C': 500, 'kernel': 'linear'}\n",
            "70445.3835347414 {'C': 1000, 'kernel': 'linear'}\n",
            "118631.71004256308 {'C': 1, 'gamma': 'scale', 'kernel': 'rbf'}\n",
            "118634.4106689143 {'C': 1, 'gamma': 'auto', 'kernel': 'rbf'}\n",
            "117508.07539783238 {'C': 5, 'gamma': 'scale', 'kernel': 'rbf'}\n",
            "117531.43159173557 {'C': 5, 'gamma': 'auto', 'kernel': 'rbf'}\n",
            "116122.31346416594 {'C': 10, 'gamma': 'scale', 'kernel': 'rbf'}\n",
            "116146.756839778 {'C': 10, 'gamma': 'auto', 'kernel': 'rbf'}\n"
          ],
          "name": "stdout"
        }
      ]
    },
    {
      "cell_type": "code",
      "metadata": {
        "id": "NKZWOjrW5_nZ",
        "colab_type": "code",
        "colab": {
          "base_uri": "https://localhost:8080/",
          "height": 230
        },
        "outputId": "2a5a70d3-12f1-4be9-ff62-ede536a2abae"
      },
      "source": [
        "housing_labels"
      ],
      "execution_count": 176,
      "outputs": [
        {
          "output_type": "execute_result",
          "data": {
            "text/plain": [
              "17606    286600.0\n",
              "18632    340600.0\n",
              "14650    196900.0\n",
              "3230      46300.0\n",
              "3555     254500.0\n",
              "           ...   \n",
              "6563     240200.0\n",
              "12053    113000.0\n",
              "13908     97800.0\n",
              "11159    225900.0\n",
              "15775    500001.0\n",
              "Name: median_house_value, Length: 16512, dtype: float64"
            ]
          },
          "metadata": {
            "tags": []
          },
          "execution_count": 176
        }
      ]
    },
    {
      "cell_type": "code",
      "metadata": {
        "id": "22MbZ0H-6SvT",
        "colab_type": "code",
        "colab": {}
      },
      "source": [
        ""
      ],
      "execution_count": 0,
      "outputs": []
    }
  ]
}